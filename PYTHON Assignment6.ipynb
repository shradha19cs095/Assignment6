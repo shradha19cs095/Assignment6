{
 "cells": [
  {
   "cell_type": "code",
   "execution_count": 1,
   "id": "77e97120",
   "metadata": {},
   "outputs": [
    {
     "name": "stdout",
     "output_type": "stream",
     "text": [
      "jsonfile generated\n"
     ]
    }
   ],
   "source": [
    "#Create an assignment for File handling of JSON files in Python.\n",
    "\n",
    "import json\n",
    "x={\n",
    "    \"employee_details\":[\n",
    "        {\n",
    "            \"employee_name\": \"Shradha\",\n",
    "            \"DOB\": \"28/2/2002\",\n",
    "            \"Height\": \"5.2\",\n",
    "            \"City\": \"Bengaluru\",\n",
    "            \"State\": \"Karnataka\"\n",
    "        },\n",
    "        {\n",
    "            \"employee_name\": \"Pratiksha\",\n",
    "            \"DOB\": \"17/04/2001\",\n",
    "            \"Height\": \"5.1\",\n",
    "            \"City\": \"Pune\",\n",
    "            \"State\": \"Maharashtra\"\n",
    "        },\n",
    "        {      \n",
    "            \"employee_name\": \"Akshata\",\n",
    "            \"DOB\": \"14/07/2004\",\n",
    "            \"Height\": \"5.3\",\n",
    "            \"City\": \"Bidar\",\n",
    "            \"State\": \"Karnataka\"  \n",
    "        },\n",
    "        {\n",
    "            \"employee_name\": \"Vaishnavi\",\n",
    "            \"DOB\": \"20/06/2000\",\n",
    "            \"Height\": \"5.5\",\n",
    "            \"City\": \"Bengaluru\",\n",
    "            \"State\": \"Karnataka\"  \n",
    "        },\n",
    "        {\n",
    "            \"employee_name\": \"Varshita\",\n",
    "            \"DOB\":\"15/02/1999\",\n",
    "            \"Height\": \"5.4\",\n",
    "            \"City\": \"Bengaluru\",\n",
    "            \"State\": \"Karnataka\"\n",
    "        }\n",
    "    ]   \n",
    "}\n",
    "with open(\"employee.json\",\"w\") as f:\n",
    "    json.dump(x,f,indent=5)\n",
    "    print(\"jsonfile generated\")"
   ]
  },
  {
   "cell_type": "code",
   "execution_count": null,
   "id": "0befbee7",
   "metadata": {},
   "outputs": [],
   "source": []
  }
 ],
 "metadata": {
  "kernelspec": {
   "display_name": "Python 3 (ipykernel)",
   "language": "python",
   "name": "python3"
  },
  "language_info": {
   "codemirror_mode": {
    "name": "ipython",
    "version": 3
   },
   "file_extension": ".py",
   "mimetype": "text/x-python",
   "name": "python",
   "nbconvert_exporter": "python",
   "pygments_lexer": "ipython3",
   "version": "3.10.9"
  }
 },
 "nbformat": 4,
 "nbformat_minor": 5
}
